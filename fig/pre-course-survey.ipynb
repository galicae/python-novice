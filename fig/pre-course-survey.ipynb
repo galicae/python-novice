{
 "cells": [
  {
   "cell_type": "code",
   "execution_count": 1,
   "id": "a123aad1-ab1a-4f5c-bcd2-9a858d91d2fa",
   "metadata": {},
   "outputs": [],
   "source": [
    "import textwrap\n",
    "\n",
    "import pandas as pd\n",
    "import numpy as np\n",
    "from matplotlib import pyplot as plt"
   ]
  },
  {
   "cell_type": "code",
   "execution_count": 2,
   "id": "e8e0aac8-e032-4a79-a615-caecce933ada",
   "metadata": {},
   "outputs": [],
   "source": [
    "# accurate as of 2025-08-14\n",
    "data = pd.read_csv('https://docs.google.com/spreadsheets/d/' + \n",
    "                   '10CMvq_E_3rykczpBkyWrd0bCFK1-Yo7ZBZOaDc9IYH0' +\n",
    "                   '/export?gid=0&format=csv',\n",
    "                   # Set first column as rownames in data frame\n",
    "                   index_col=None,\n",
    "                   # Parse column values to datetime\n",
    "                   parse_dates=['Timestamp']\n",
    "                  )"
   ]
  },
  {
   "cell_type": "code",
   "execution_count": 3,
   "id": "00097e3b-5cb6-4d47-a4ff-dbdf9b0b3596",
   "metadata": {},
   "outputs": [],
   "source": [
    "def plot_column(data, column, title, break_length=60):\n",
    "    fig, ax = plt.subplots()\n",
    "    bin_edges = np.arange(0.5, 11.5, 1)\n",
    "    data[column].hist(ax=ax, bins=bin_edges, rwidth=0.8)\n",
    "    ax.set_xlim(0.5, 10)\n",
    "    wrapped = textwrap.fill(column, width=60)\n",
    "    ax.set_title(wrapped);\n",
    "    ax.set_xticks(np.arange(1, 11));\n",
    "    plt.savefig(f\"{title}.png\")\n",
    "    plt.close()"
   ]
  },
  {
   "cell_type": "code",
   "execution_count": 4,
   "id": "a7b92921-cea0-4f0b-a5bc-acc0b6041725",
   "metadata": {},
   "outputs": [
    {
     "data": {
      "text/plain": [
       "Index(['Timestamp', 'Email Address',\n",
       "       'Please indicate your relevant field or discipline:',\n",
       "       'What is the current stage of your studies?',\n",
       "       'Which of the following courses, if any, have you attended?',\n",
       "       'Did you attend any other courses that you feel might be relevant for this course?',\n",
       "       'How would you rate your level of familiarity with the terminal?',\n",
       "       'How would you rate your level of familiarity with version control (git, subversion, etc.)?',\n",
       "       'How would you rate your proficiency in programming (Python, R, bash, scripting, etc.)?',\n",
       "       'What are you hoping to learn in this course? What would you like to be able to accomplish afterwards?',\n",
       "       'How often do you currently use version control software (e.g. Git, Subversion (SVN), Mercurial, etc.)?',\n",
       "       'How often do you currently use a command shell (usually accessed via Terminal on MacOS or PowerShell on Windows)?',\n",
       "       'Why are you participating in this course?',\n",
       "       'Having access to the original, raw data is important to be able to repeat an analysis.',\n",
       "       'Having access to the code is important to be able to repeat an analysis.',\n",
       "       'I can write a small program, script, or macro to address a problem in my own work.',\n",
       "       'I know how to search for answers to my technical questions online.',\n",
       "       'While working on a programming project, if I got stuck, I can find ways of overcoming the problem.',\n",
       "       'I am confident in my ability to make use of programming software to work with data.',\n",
       "       'Using a programming language (like R or Python) can make my analyses easier to reproduce.',\n",
       "       'Using a programming language (like R or Python) can make me more efficient at working with data.',\n",
       "       'Please share what you most hope to learn from participating in this course.'],\n",
       "      dtype='object')"
      ]
     },
     "execution_count": 4,
     "metadata": {},
     "output_type": "execute_result"
    }
   ],
   "source": [
    "data.columns"
   ]
  },
  {
   "cell_type": "code",
   "execution_count": 5,
   "id": "2cc046c7-b34d-45bc-9651-bff61517b512",
   "metadata": {},
   "outputs": [],
   "source": [
    "plot_column(data, 'How would you rate your proficiency in programming (Python, R, bash, scripting, etc.)?', \"proficiency\")\n",
    "plot_column(data, 'I can write a small program, script, or macro to address a problem in my own work.', \"confidence\")\n",
    "plot_column(data, 'I know how to search for answers to my technical questions online.', \"help\")\n",
    "plot_column(data, 'While working on a programming project, if I got stuck, I can find ways of overcoming the problem.', \"resilience\")\n",
    "plot_column(data, 'Using a programming language (like R or Python) can make my analyses easier to reproduce.', \"reproducibility\")\n",
    "plot_column(data, 'Using a programming language (like R or Python) can make me more efficient at working with data.', \"efficiency\")"
   ]
  },
  {
   "cell_type": "code",
   "execution_count": 6,
   "id": "6e42e140-bf63-4951-bb8a-ea5848309515",
   "metadata": {},
   "outputs": [
    {
     "data": {
      "text/plain": [
       "0     The ability to know how to google for the righ...\n",
       "1     Be able to tackle more complex programming pro...\n",
       "2               Understanding the basics of programming\n",
       "3     Getting to know the world of programming (a bit).\n",
       "4     I hope to be able to complete basic programmin...\n",
       "5     becoming better in anaylsing my data (with R o...\n",
       "6                                                   NaN\n",
       "7                                                   NaN\n",
       "8                                                   NaN\n",
       "9     Not needing to ask ChatGPT every 2 steps how t...\n",
       "10    how to write code and apply it to different pr...\n",
       "11                                                  NaN\n",
       "12    I hope to gain the necessary skills to figure ...\n",
       "13    How to analyse data in scientific way, know th...\n",
       "14                                                  NaN\n",
       "15    what all the words in the above questionnaire ...\n",
       "16    Programming in general and learning a programm...\n",
       "17    Just hoping, if I ever need to analysize stuff...\n",
       "18    The importance of informatics in sciences is w...\n",
       "19    To understand and be able to use programming i...\n",
       "20              Be more independent in my data analysis\n",
       "21    1. R  \\n2. Python (absolutely dummy in the sec...\n",
       "22    a new way to approach otherwise time consuming...\n",
       "23                                                  NaN\n",
       "24    understanding basics of programming and being ...\n",
       "25    basic skills I can later build and improve on ...\n",
       "26                                                  NaN\n",
       "27    Learn the terminology and apply it and see if ...\n",
       "28                                                  NaN\n",
       "29    I would most hope to learn data analysis skill...\n",
       "30                                                  NaN\n",
       "31                                                  NaN\n",
       "32                                                  NaN\n",
       "Name: Please share what you most hope to learn from participating in this course., dtype: object"
      ]
     },
     "execution_count": 6,
     "metadata": {},
     "output_type": "execute_result"
    }
   ],
   "source": [
    "data['Please share what you most hope to learn from participating in this course.']"
   ]
  }
 ],
 "metadata": {
  "kernelspec": {
   "display_name": "Python 3 (ipykernel)",
   "language": "python",
   "name": "python3"
  },
  "language_info": {
   "codemirror_mode": {
    "name": "ipython",
    "version": 3
   },
   "file_extension": ".py",
   "mimetype": "text/x-python",
   "name": "python",
   "nbconvert_exporter": "python",
   "pygments_lexer": "ipython3",
   "version": "3.13.5"
  }
 },
 "nbformat": 4,
 "nbformat_minor": 5
}
